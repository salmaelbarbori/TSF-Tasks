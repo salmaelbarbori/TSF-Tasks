{
  "nbformat": 4,
  "nbformat_minor": 0,
  "metadata": {
    "colab": {
      "provenance": []
    },
    "kernelspec": {
      "name": "python3",
      "display_name": "Python 3"
    },
    "language_info": {
      "name": "python"
    }
  },
  "cells": [
    {
      "cell_type": "markdown",
      "source": [
        "### Objective : Predict the % of a student based on the no of hours studies."
      ],
      "metadata": {
        "id": "0960BzUZygqU"
      }
    },
    {
      "cell_type": "markdown",
      "source": [
        "# Steps Followed to realize the project\n",
        "## Loading the libraries and the dataset\n",
        "## Preparing the data\n",
        "## Building our ML model (linear regression)\n",
        "### Traing the model\n",
        "### Testing the model\n",
        "### Evaluating the model\n",
        "## Conclusion\n"
      ],
      "metadata": {
        "id": "ulCmT85ZzB2t"
      }
    },
    {
      "cell_type": "markdown",
      "source": [
        "## Loading libraries and dataset"
      ],
      "metadata": {
        "id": "_qbv1if7zx-g"
      }
    },
    {
      "cell_type": "code",
      "execution_count": null,
      "metadata": {
        "id": "nYlvNIhxyS1F"
      },
      "outputs": [],
      "source": []
    },
    {
      "cell_type": "markdown",
      "source": [],
      "metadata": {
        "id": "6s4BRpm_ybS_"
      }
    }
  ]
}